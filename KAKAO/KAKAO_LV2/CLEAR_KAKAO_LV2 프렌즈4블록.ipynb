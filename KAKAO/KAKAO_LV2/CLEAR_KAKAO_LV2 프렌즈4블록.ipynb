{
 "cells": [
  {
   "cell_type": "code",
   "execution_count": 2,
   "metadata": {},
   "outputs": [],
   "source": [
    "def solution(m, n, board):\n",
    "    answer = 0\n",
    "    return answer"
   ]
  },
  {
   "cell_type": "code",
   "execution_count": null,
   "metadata": {},
   "outputs": [],
   "source": [
    "m\tn\tboard\tanswer\n",
    "4\t5\t[CCBDE, AAADE, AAABF, CCBBF]\t14\n",
    "6\t6\t[TTTANT, RRFACC, RRRFCC, TRRRAA, TTMMMF, TMMTTJ]\t15"
   ]
  },
  {
   "cell_type": "code",
   "execution_count": 165,
   "metadata": {},
   "outputs": [
    {
     "name": "stdout",
     "output_type": "stream",
     "text": [
      "14\n"
     ]
    },
    {
     "data": {
      "text/plain": [
       "[[' ', ' ', ' ', ' ', 'E'],\n",
       " [' ', ' ', ' ', ' ', 'E'],\n",
       " [' ', ' ', ' ', 'D', 'F'],\n",
       " [' ', ' ', ' ', 'D', 'F']]"
      ]
     },
     "execution_count": 165,
     "metadata": {},
     "output_type": "execute_result"
    }
   ],
   "source": [
    "m = 4\n",
    "n = 5\n",
    "board = ['CCBDE',\n",
    "         'AAADE',\n",
    "         'AAABF',\n",
    "         'CCBBF']\n",
    "\n",
    "_ = 0\n",
    "while _ < 30:\n",
    "    _ = _ + 1\n",
    "    board_list = []\n",
    "    point = []\n",
    "    \n",
    "    for i in range(m):\n",
    "        board_list.append([])\n",
    "        for j in range(n):\n",
    "            board_list[i].append(board[i][j])\n",
    "    \n",
    "    board = board_list\n",
    "    \n",
    "    for i in range(m-1):\n",
    "        for j in range(n-1):\n",
    "            if board[i][j] == board[i][j+1] and board[i][j] == board[i+1][j] and board[i+1][j] == board[i+1][j+1]:\n",
    "                point.append((i, j))\n",
    "                point.append((i, j+1))\n",
    "                point.append((i+1, j))\n",
    "                point.append((i+1, j+1))\n",
    "\n",
    "    point = set(point)\n",
    "    \n",
    "    for k in point:\n",
    "        board[k[0]][k[1]] = ' '\n",
    "    \n",
    "    for z in range(30):\n",
    "        for x in range(m-1, -1, -1):\n",
    "            for y in range(n):\n",
    "                if x != 0:\n",
    "                    if board[x][y] == ' ':\n",
    "                        board[x][y] = board[x-1][y]\n",
    "                        board[x-1][y] = ' '\n",
    "\n",
    "cnt = 0\n",
    "for i in range(m):\n",
    "    cnt = cnt + a[i].count(' ')\n",
    "    \n",
    "print(cnt)\n",
    "board"
   ]
  },
  {
   "cell_type": "code",
   "execution_count": 193,
   "metadata": {},
   "outputs": [
    {
     "name": "stdout",
     "output_type": "stream",
     "text": [
      "20\n"
     ]
    },
    {
     "data": {
      "text/plain": [
       "[[' ', ' ', ' ', ' '],\n",
       " [' ', ' ', ' ', ' '],\n",
       " [' ', ' ', ' ', ' '],\n",
       " [' ', ' ', ' ', ' '],\n",
       " ['A', ' ', ' ', 'A'],\n",
       " ['A', ' ', ' ', 'A']]"
      ]
     },
     "execution_count": 193,
     "metadata": {},
     "output_type": "execute_result"
    }
   ],
   "source": [
    "board = ['ABCC',\n",
    "         'AAAA',\n",
    "         'AAAA',\n",
    "         'AACC',\n",
    "         'AABA',\n",
    "         'ABBA']\n",
    "\n",
    "m = len(board)\n",
    "n = len(board[0])\n",
    "\n",
    "_ = 0\n",
    "while _ < 30:\n",
    "    _ = _ + 1\n",
    "    board_list = []\n",
    "    point = []\n",
    "    \n",
    "    for i in range(m):\n",
    "        board_list.append([])\n",
    "        for j in range(n):\n",
    "            board_list[i].append(board[i][j])\n",
    "    \n",
    "    board = board_list\n",
    "    \n",
    "    for i in range(m-1):\n",
    "        for j in range(n-1):\n",
    "            if board[i][j] == board[i][j+1] and board[i][j] == board[i+1][j] and board[i+1][j] == board[i+1][j+1]:\n",
    "                point.append((i, j))\n",
    "                point.append((i, j+1))\n",
    "                point.append((i+1, j))\n",
    "                point.append((i+1, j+1))\n",
    "\n",
    "    point = set(point)\n",
    "    \n",
    "    for k in point:\n",
    "        board[k[0]][k[1]] = ' '\n",
    "    \n",
    "    for z in range(30):\n",
    "        for x in range(m-1, -1, -1):\n",
    "            for y in range(n):\n",
    "                if x != 0:\n",
    "                    if board[x][y] == ' ':\n",
    "                        board[x][y] = board[x-1][y]\n",
    "                        board[x-1][y] = ' '\n",
    "\n",
    "answer = 0\n",
    "for i in range(m):\n",
    "    answer = answer + board[i].count(' ')\n",
    "    \n",
    "print(answer)\n",
    "board"
   ]
  },
  {
   "cell_type": "code",
   "execution_count": 186,
   "metadata": {},
   "outputs": [],
   "source": [
    "board = ['ABCC',\n",
    "         'AAAA',\n",
    "         'AAAA',\n",
    "         'AACC',\n",
    "         'AABA',\n",
    "         'ABBA']\n",
    "\n",
    "board = ['    ',\n",
    "         '    ',\n",
    "         '    ',\n",
    "         '    ',\n",
    "         'A  A',\n",
    "         'A  A']\n",
    "\n"
   ]
  },
  {
   "cell_type": "code",
   "execution_count": null,
   "metadata": {},
   "outputs": [],
   "source": [
    "def solution(m, n, board):\n",
    "    _ = 0\n",
    "    while _ < 200:\n",
    "        _ = _ + 1\n",
    "        board_list = []\n",
    "        point = []\n",
    "\n",
    "        for i in range(m):\n",
    "            board_list.append([])\n",
    "            for j in range(n):\n",
    "                board_list[i].append(board[i][j])\n",
    "\n",
    "        board = board_list\n",
    "\n",
    "        for i in range(m-1):\n",
    "            for j in range(n-1):\n",
    "                if board[i][j] == board[i][j+1] and board[i][j] == board[i+1][j] and board[i+1][j] == board[i+1][j+1]:\n",
    "                    point.append((i, j))\n",
    "                    point.append((i, j+1))\n",
    "                    point.append((i+1, j))\n",
    "                    point.append((i+1, j+1))\n",
    "\n",
    "        point = set(point)\n",
    "\n",
    "        for k in point:\n",
    "            board[k[0]][k[1]] = ' '\n",
    "\n",
    "        for z in range(200):\n",
    "            for x in range(m-1, -1, -1):\n",
    "                for y in range(n):\n",
    "                    if x != 0:\n",
    "                        if board[x][y] == ' ':\n",
    "                            board[x][y] = board[x-1][y]\n",
    "                            board[x-1][y] = ' '\n",
    "\n",
    "    answer = 0\n",
    "    for i in range(m):\n",
    "        answer = answer + board[i].count(' ')\n",
    "    return answer"
   ]
  },
  {
   "cell_type": "code",
   "execution_count": null,
   "metadata": {},
   "outputs": [],
   "source": [
    "board = ['HG   ',\n",
    "         'CR   ',\n",
    "         'UKN U',\n",
    "         'MJS V',\n",
    "         'GSHVL',\n",
    "         'MQMQB',\n",
    "         'AGJOT',\n",
    "         'QULJJ']"
   ]
  },
  {
   "cell_type": "code",
   "execution_count": 122,
   "metadata": {
    "scrolled": false
   },
   "outputs": [
    {
     "data": {
      "text/plain": [
       "14"
      ]
     },
     "execution_count": 122,
     "metadata": {},
     "output_type": "execute_result"
    }
   ],
   "source": [
    "# 제출 코드\n",
    "# 제출 코드\n",
    "# 제출 코드\n",
    "# 제출 코드\n",
    "# 제출 코드\n",
    "# 제출 코드\n",
    "# 제출 코드\n",
    "# 제출 코드\n",
    "# 제출 코드\n",
    "\n",
    "\n",
    "def solution(m, n, board):\n",
    "    import copy\n",
    "    answer = 0\n",
    "    while True:\n",
    "        board_list = []\n",
    "        point = []\n",
    "\n",
    "        for i in range(m):\n",
    "            board_list.append([])\n",
    "            for j in range(n):\n",
    "                board_list[i].append(board[i][j])\n",
    "\n",
    "        board = board_list\n",
    "\n",
    "        for i in range(m-1):\n",
    "            for j in range(n-1):\n",
    "                if board[i][j] == board[i][j+1] and board[i][j] == board[i+1][j] and board[i+1][j] == board[i+1][j+1]:\n",
    "                    point.append((i, j))\n",
    "                    point.append((i, j+1))\n",
    "                    point.append((i+1, j))\n",
    "                    point.append((i+1, j+1))\n",
    "\n",
    "        point = set(point)\n",
    "\n",
    "        board_1 = copy.deepcopy(board)\n",
    "        \n",
    "        for k in point:\n",
    "            board[k[0]][k[1]] = '-'\n",
    "            \n",
    "        board_2 = copy.deepcopy(board)\n",
    "\n",
    "        if board_1 == board_2:\n",
    "            break\n",
    "            \n",
    "        while True:\n",
    "            board_1 = copy.deepcopy(board)\n",
    "            for x in range(m-1, -1, -1):\n",
    "                for y in range(n):\n",
    "                    if x != 0:\n",
    "                        if board[x][y] == '-':\n",
    "                            board[x][y] = board[x-1][y]\n",
    "                            board[x-1][y] = '-'\n",
    "            board_2 = copy.deepcopy(board)\n",
    "            if board_1 == board_2:\n",
    "                break\n",
    "        \n",
    "    for i in range(m):\n",
    "        answer = answer + board[i].count('-')\n",
    "    return answer\n",
    "\n",
    "\n",
    "board = ['CCBDE',\n",
    "         'AAADE',\n",
    "         'AAABF',\n",
    "         'CCBBF']\n",
    "\n",
    "# board = ['ABCC',\n",
    "#          'AAAA',\n",
    "#          'AAAA',\n",
    "#          'AACC',\n",
    "#          'AABA',\n",
    "#          'ABBA']\n",
    "m = len(board)\n",
    "n = len(board[0])\n",
    "\n",
    "solution(m, n, board)"
   ]
  },
  {
   "cell_type": "code",
   "execution_count": 40,
   "metadata": {},
   "outputs": [
    {
     "name": "stdout",
     "output_type": "stream",
     "text": [
      "['CCBDE', 'AAADE', 'AAABF', 'CCBBF']\n"
     ]
    }
   ],
   "source": [
    "print(board, sep='\\n')"
   ]
  }
 ],
 "metadata": {
  "kernelspec": {
   "display_name": "Python 3",
   "language": "python",
   "name": "python3"
  },
  "language_info": {
   "codemirror_mode": {
    "name": "ipython",
    "version": 3
   },
   "file_extension": ".py",
   "mimetype": "text/x-python",
   "name": "python",
   "nbconvert_exporter": "python",
   "pygments_lexer": "ipython3",
   "version": "3.7.6"
  }
 },
 "nbformat": 4,
 "nbformat_minor": 4
}
