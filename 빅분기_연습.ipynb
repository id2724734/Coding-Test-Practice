{
  "nbformat": 4,
  "nbformat_minor": 0,
  "metadata": {
    "colab": {
      "private_outputs": true,
      "provenance": [],
      "toc_visible": true,
      "authorship_tag": "ABX9TyMMyC7TI3nN7ISQniUugUEN",
      "include_colab_link": true
    },
    "kernelspec": {
      "name": "python3",
      "display_name": "Python 3"
    },
    "language_info": {
      "name": "python"
    }
  },
  "cells": [
    {
      "cell_type": "markdown",
      "metadata": {
        "id": "view-in-github",
        "colab_type": "text"
      },
      "source": [
        "<a href=\"https://colab.research.google.com/github/id2724734/Coding_Test_Practice/blob/master/%EB%B9%85%EB%B6%84%EA%B8%B0_%EC%97%B0%EC%8A%B5.ipynb\" target=\"_parent\"><img src=\"https://colab.research.google.com/assets/colab-badge.svg\" alt=\"Open In Colab\"/></a>"
      ]
    },
    {
      "cell_type": "code",
      "source": [
        "import pandas as pd\n",
        "\n",
        "# 인기동영상 제작횟수가 많은 채널 상위 10개명을 출력하라 (날짜기준, 중복포함)\n",
        "# ['장삐쭈', '총몇명', '파뿌리', '짤툰', '런닝맨 - 스브스 공식 채널', '엠뚜루마뚜루 : MBC 공식 종합 채널', 'SPOTV', '채널 십오야', '이과장', 'BANGTANTV']\n",
        "df = pd.read_csv(\"https://raw.githubusercontent.com/Datamanim/datarepo/main/youtube/youtube.csv\",index_col=0)\n",
        "df_channelId = df['channelId'].value_counts().head(10).index\n",
        "df_named = df[df['channelId'].isin(df_channelId)]['channelTitle'].unique()\n",
        "# print(list(df_named))\n",
        "\n",
        "# 논란으로 인기동영상이 된 케이스를 확인하고 싶다. dislikes수가 like 수보다 높은 동영상을 제작한 채널을 모두 출력하라\n",
        "# ['핫도그TV', 'ASMR 애정TV', '하얀트리HayanTree', '양팡 YangPang', '철구형 (CHULTUBE)', '왜냐맨하우스', '(MUTUBE)와꾸대장봉준',\n",
        "# '오메킴TV', '육지담', 'MapleStory_KR', 'ROAD FIGHTING CHAMPIONSHIP', '사나이 김기훈', '나혼자산다 STUDIO', 'Gen.G esports']\n",
        "df = pd.read_csv(\"https://raw.githubusercontent.com/Datamanim/datarepo/main/youtube/youtube.csv\",index_col=0)\n",
        "df_dis = df[df['likes'] < df['dislikes']]\n",
        "df_dis['channelTitle'].unique()\n",
        "# print(list(df_dis['channelTitle'].unique()))\n",
        "\n",
        "\n",
        "# 채널명을 바꾼 케이스가 있는지 확인하고 싶다. channelId의 경우 고유값이므로 이를 통해 채널명을 한번이라도 바꾼 채널의 갯수를 구하여라\n",
        "df = pd.read_csv(\"https://raw.githubusercontent.com/Datamanim/datarepo/main/youtube/youtube.csv\",index_col=0)\n",
        "df_ch = df[['channelTitle','channelId']].drop_duplicates()['channelId'].value_counts()\n",
        "# print(len(df_ch[df_ch>1]))\n",
        "\n",
        "# 일요일에 인기있었던 영상들중 가장많은 영상 종류(categoryId)는 무엇인가?\n",
        "df = pd.read_csv(\"https://raw.githubusercontent.com/Datamanim/datarepo/main/youtube/youtube.csv\",index_col=0)\n",
        "df['trending_date'] = pd.to_datetime(df['trending_date2'])\n",
        "df['day_name'] = df['trending_date'].dt.day_name()\n",
        "df_sunday = df[df['day_name'] == 'Sunday']\n",
        "# print(df_sunday['categoryId'].value_counts().index[0])\n",
        "\n",
        "# 각 요일별 인기 영상들의 categoryId는 각각 몇개 씩인지 하나의 데이터 프레임으로 표현하라\n",
        "df.groupby([df['day_name'], 'categoryId'],as_index=False).count()\n",
        "\n",
        "# 댓글의 수로 (comment_count) 영상 반응에 대한 판단을 할 수 있다. viewcount대비 댓글수가 가장 높은 영상을 확인하라 (view_count값이 0인 경우는 제외한다)\n",
        "df = pd.read_csv(\"https://raw.githubusercontent.com/Datamanim/datarepo/main/youtube/youtube.csv\",index_col=0)\n",
        "df_view = df[df['view_count'] != 0]\n",
        "df_view_1 = df_view.copy()\n",
        "df_view_1['comment_per_veiw'] = df_view['comment_count'] / df_view['view_count']\n",
        "print(df_view_1.sort_values(by = 'comment_per_veiw', ascending = False)['title'][0])\n",
        "print(df_view_1.sort_values(by = 'comment_per_veiw', ascending = False).iloc[0].title)"
      ],
      "metadata": {
        "id": "cHBbZlziUiOu"
      },
      "execution_count": null,
      "outputs": []
    },
    {
      "cell_type": "code",
      "source": [
        "target2= df.loc[df.view_count!=0]\n",
        "t = target2.copy()\n",
        "t['ratio'] = (target2['comment_count']/target2['view_count']).dropna()\n",
        "result = t.sort_values(by='ratio', ascending=False).iloc[0].title\n",
        "print(result)"
      ],
      "metadata": {
        "id": "1dRSsP4xUiTD"
      },
      "execution_count": null,
      "outputs": []
    },
    {
      "cell_type": "code",
      "source": [
        "df.head()"
      ],
      "metadata": {
        "id": "eOkznz0aUiWq"
      },
      "execution_count": null,
      "outputs": []
    },
    {
      "cell_type": "code",
      "source": [],
      "metadata": {
        "id": "Jp33d3CSUiZj"
      },
      "execution_count": null,
      "outputs": []
    },
    {
      "cell_type": "code",
      "source": [],
      "metadata": {
        "id": "psPx8r7NUicb"
      },
      "execution_count": null,
      "outputs": []
    },
    {
      "cell_type": "code",
      "source": [],
      "metadata": {
        "id": "YRWXtdzoUift"
      },
      "execution_count": null,
      "outputs": []
    },
    {
      "cell_type": "code",
      "source": [],
      "metadata": {
        "id": "yU99oL10Uiib"
      },
      "execution_count": null,
      "outputs": []
    }
  ]
}