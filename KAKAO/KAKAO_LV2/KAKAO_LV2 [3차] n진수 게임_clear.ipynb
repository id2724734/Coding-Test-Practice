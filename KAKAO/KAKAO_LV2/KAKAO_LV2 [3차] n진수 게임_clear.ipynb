{
 "cells": [
  {
   "cell_type": "code",
   "execution_count": null,
   "metadata": {},
   "outputs": [],
   "source": [
    "튜브가 활동하는 코딩 동아리에서는 전통적으로 해오는 게임이 있다. \n",
    "이 게임은 여러 사람이 둥글게 앉아서 숫자를 하나씩 차례대로 말하는 게임인데, 규칙은 다음과 같다.\n",
    "\n",
    "숫자를 0부터 시작해서 차례대로 말한다. 첫 번째 사람은 0, 두 번째 사람은 1, … 열 번째 사람은 9를 말한다.\n",
    "10 이상의 숫자부터는 한 자리씩 끊어서 말한다. \n",
    "즉 열한 번째 사람은 10의 첫 자리인 1, 열두 번째 사람은 둘째 자리인 0을 말한다.\n",
    "이렇게 게임을 진행할 경우,\n",
    "0, 1, 2, 3, 4, 5, 6, 7, 8, 9, 1, 0, 1, 1, 1, 2, 1, 3, 1, 4, …\n",
    "순으로 숫자를 말하면 된다.\n",
    "\n",
    "한편 코딩 동아리 일원들은 컴퓨터를 다루는 사람답게 이진수로 이 게임을 진행하기도 하는데, 이 경우에는\n",
    "0, 1, 1, 0, 1, 1, 1, 0, 0, 1, 0, 1, 1, 1, 0, 1, 1, 1, …\n",
    "순으로 숫자를 말하면 된다.\n",
    "\n",
    "좀 더 난이도를 높이기 위해 이진법에서 십육진법까지 모든 진법으로 게임을 진행해보기로 했다. \n",
    "자신이 말해야 하는 숫자를 스마트폰에 미리 출력해주는 프로그램을 만들려고 한다.\n"
   ]
  },
  {
   "cell_type": "code",
   "execution_count": null,
   "metadata": {},
   "outputs": [],
   "source": [
    "진법 n, 미리 구할 숫자의 갯수 t, 게임에 참가하는 인원 m, 튜브의 순서 p 가 주어진다.\n",
    "\n",
    "2 ≦ n ≦ 16\n",
    "0 ＜ t ≦ 1000\n",
    "2 ≦ m ≦ 100\n",
    "1 ≦ p ≦ m"
   ]
  },
  {
   "cell_type": "code",
   "execution_count": null,
   "metadata": {},
   "outputs": [],
   "source": [
    "n\tt\tm\tp\tresult\n",
    "2\t4\t2\t1\t'0111'\n",
    "16\t16\t2\t1\t'02468ACE11111111'\n",
    "16\t16\t2\t2\t'13579BDF01234567'"
   ]
  },
  {
   "cell_type": "code",
   "execution_count": null,
   "metadata": {},
   "outputs": [],
   "source": [
    "0 1 1 0 1 1 1 0 0 1 0 1 1 1 0 1 1 1\n",
    "t s t s t s t\n",
    "\n",
    "0 1 2 3 4 5 6 7 8 9 A B C D E F 1 0 1 1 1 2 1 3 1 4 1 5 1 6 1 7\n",
    "t s t s t s t s t s t s t s t s t s t s t s t s t s t s t s t s\n",
    "0   2   4   6   8   A   C   E   1   1   1   1   1   1   1   1     \n",
    "\n",
    "s t s t s t s t s t s t s t s t s t s t s t s t s t s t s t s t\n",
    "  1   3   5   7   9   B   D   F   0   1   2   3   4   5   6   7"
   ]
  },
  {
   "cell_type": "code",
   "execution_count": 44,
   "metadata": {},
   "outputs": [
    {
     "name": "stdout",
     "output_type": "stream",
     "text": [
      "0111"
     ]
    }
   ],
   "source": [
    "n = 2  # 진법\n",
    "t = 4  # 미리 구할 숫자의 갯수\n",
    "m = 2  # 게임에 참가하는 인원\n",
    "p = 1  # 튜브의 순서\n",
    "\n",
    "def toN(n, num=2):\n",
    "    res=[]\n",
    "    res2=''\n",
    "    while n>0:\n",
    "       n, tmp = divmod(n, num)\n",
    "       res.append((str(tmp) if tmp <10 else 'ABCDEF'[tmp-10]))\n",
    " \n",
    "    for i in range(len(res)):\n",
    "        res2 += res.pop()\n",
    " \n",
    "    return res2\n",
    "\n",
    "num_str = '0'\n",
    "for i in range(t*m):\n",
    "    num_str = num_str + str(toN(i, n))\n",
    "\n",
    "for j in range(p-1, t*m, m):\n",
    "    print(num_str[j], end = '')"
   ]
  },
  {
   "cell_type": "code",
   "execution_count": 48,
   "metadata": {},
   "outputs": [
    {
     "data": {
      "text/plain": [
       "'0111'"
      ]
     },
     "execution_count": 48,
     "metadata": {},
     "output_type": "execute_result"
    }
   ],
   "source": [
    "def solution(n, t, m, p):\n",
    "    answer = ''\n",
    "    def toN(n, num=2):\n",
    "        res=[]\n",
    "        res2=''\n",
    "        while n>0:\n",
    "           n, tmp = divmod(n, num)\n",
    "           res.append((str(tmp) if tmp <10 else 'ABCDEF'[tmp-10]))\n",
    "\n",
    "        for i in range(len(res)):\n",
    "            res2 += res.pop()\n",
    "\n",
    "        return res2\n",
    "\n",
    "    num_str = '0'\n",
    "    for i in range(t*m):\n",
    "        num_str = num_str + str(toN(i, n))\n",
    "\n",
    "    for j in range(p-1, t*m, m):\n",
    "        answer = answer + num_str[j]\n",
    "#         print(num_str[j], end = '')\n",
    "    return answer\n",
    "\n",
    "solution(n, t, m, p)"
   ]
  }
 ],
 "metadata": {
  "kernelspec": {
   "display_name": "Python 3",
   "language": "python",
   "name": "python3"
  },
  "language_info": {
   "codemirror_mode": {
    "name": "ipython",
    "version": 3
   },
   "file_extension": ".py",
   "mimetype": "text/x-python",
   "name": "python",
   "nbconvert_exporter": "python",
   "pygments_lexer": "ipython3",
   "version": "3.7.6"
  }
 },
 "nbformat": 4,
 "nbformat_minor": 4
}
