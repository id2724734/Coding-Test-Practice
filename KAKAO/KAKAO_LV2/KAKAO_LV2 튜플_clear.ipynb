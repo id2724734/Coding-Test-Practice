{
 "cells": [
  {
   "cell_type": "code",
   "execution_count": 75,
   "metadata": {},
   "outputs": [],
   "source": [
    "s = \"{{1,2,3},{2,1},{1,2,4,3},{2}}\"\n",
    "\n"
   ]
  },
  {
   "cell_type": "code",
   "execution_count": 79,
   "metadata": {},
   "outputs": [
    {
     "name": "stdout",
     "output_type": "stream",
     "text": [
      "num_list ['1', '2', '3', '2', '1', '1', '2', '4', '3', '2']\n",
      "num_set ['1', '4', '3', '2']\n",
      "num_rank [3, 1, 2, 4]\n",
      "num_dict {3: '1', 1: '4', 2: '3', 4: '2'}\n",
      "num_sort [(4, '2'), (3, '1'), (2, '3'), (1, '4')]\n",
      "[2, 1, 3, 4]\n"
     ]
    }
   ],
   "source": [
    "s = \"{{1,2,3},{2,1},{1,2,4,3},{2}}\"\n",
    "\n",
    "answer = []\n",
    "\n",
    "import re\n",
    "\n",
    "p = re.compile('\\d+')\n",
    "num_list = p.findall(s)\n",
    "\n",
    "num_list\n",
    "num_set = list(set(num_list))\n",
    "\n",
    "print('num_list', num_list)\n",
    "print('num_set',num_set)\n",
    "\n",
    "num_rank = []\n",
    "for i in num_set:\n",
    "    num_rank.append(num_list.count((i)))\n",
    "print('num_rank',num_rank)\n",
    "\n",
    "num_dict = dict(zip(num_rank, num_set))\n",
    "print('num_dict',num_dict)\n",
    "\n",
    "num_sort = sorted(num_dict.items(), reverse = True)\n",
    "print('num_sort',num_sort)\n",
    "\n",
    "for j in num_sort:\n",
    "    answer.append(int(j[1]))\n",
    "    \n",
    "print(answer)"
   ]
  },
  {
   "cell_type": "code",
   "execution_count": 108,
   "metadata": {},
   "outputs": [
    {
     "data": {
      "text/plain": [
       "[2, 1, 3, 4]"
      ]
     },
     "execution_count": 108,
     "metadata": {},
     "output_type": "execute_result"
    }
   ],
   "source": [
    "def solution(s):\n",
    "    answer = []\n",
    "    \n",
    "    import re\n",
    "\n",
    "    p = re.compile('\\d+')\n",
    "    num_list = p.findall(s)\n",
    "\n",
    "    num_list\n",
    "    num_set = set(num_list)\n",
    "\n",
    "#     print('num_list', num_list)\n",
    "#     print('num_set',num_set)\n",
    "\n",
    "    num_rank = []\n",
    "    for i in num_set:\n",
    "        num_rank.append(num_list.count((i)))\n",
    "#     print('num_rank',num_rank)\n",
    "\n",
    "    num_dict = dict(zip(num_rank, num_set))\n",
    "#     print('num_dict',num_dict)\n",
    "\n",
    "    num_sort = sorted(num_dict.items(), reverse = True)\n",
    "#     print('num_sort',num_sort)\n",
    "\n",
    "    for j in num_sort:\n",
    "        answer.append(int(j[1]))    \n",
    "    \n",
    "    return answer\n",
    "\n",
    "solution(\"{{1,2,3},{2,1},{1,2,4,3},{2}}\")"
   ]
  },
  {
   "cell_type": "code",
   "execution_count": 107,
   "metadata": {},
   "outputs": [
    {
     "data": {
      "text/plain": [
       "[2, 1, 3, 4]"
      ]
     },
     "execution_count": 107,
     "metadata": {},
     "output_type": "execute_result"
    }
   ],
   "source": [
    "def solution(s):\n",
    "    answer = []\n",
    "    \n",
    "    import re\n",
    "\n",
    "    p = re.compile('\\d+')\n",
    "    num_list = p.findall(s)\n",
    "\n",
    "    num_list\n",
    "    num_set = set(num_list)\n",
    "\n",
    "    num_rank = []\n",
    "    for i in num_set:\n",
    "        num_rank.append(num_list.count((i)))\n",
    "\n",
    "    num_dict = dict(zip(num_rank, num_set))\n",
    "\n",
    "    num_sort = sorted(num_dict.items(), reverse = True)\n",
    "\n",
    "    for j in num_sort:\n",
    "        answer.append(int(j[1]))    \n",
    "    \n",
    "    return answer\n",
    "\n",
    "solution(\"{{1,2,3},{2,1},{1,2,4,3},{2}}\")"
   ]
  },
  {
   "cell_type": "code",
   "execution_count": 112,
   "metadata": {},
   "outputs": [
    {
     "data": {
      "text/plain": [
       "[2, 1, 3, 4]"
      ]
     },
     "execution_count": 112,
     "metadata": {},
     "output_type": "execute_result"
    }
   ],
   "source": [
    "def solution(s):\n",
    "    import re\n",
    "    answer = [int(j[1]) for j in sorted(dict(zip([re.compile('\\d+').findall(s).count(k) for k in set(re.compile('\\d+').findall(s))], set(re.compile('\\d+').findall(s)))).items(), reverse = True)]\n",
    "    return answer\n",
    "\n",
    "solution(\"{{1,2,3},{2,1},{1,2,4,3},{2}}\")"
   ]
  },
  {
   "cell_type": "code",
   "execution_count": 103,
   "metadata": {},
   "outputs": [],
   "source": [
    "answer = [int(j[1]) for j in sorted(dict(zip([num_list.count(k) for k in set(num_list)], set(num_list))).items(), reverse = True)]"
   ]
  },
  {
   "cell_type": "code",
   "execution_count": 104,
   "metadata": {},
   "outputs": [
    {
     "data": {
      "text/plain": [
       "[2, 1, 3, 4]"
      ]
     },
     "execution_count": 104,
     "metadata": {},
     "output_type": "execute_result"
    }
   ],
   "source": [
    "answer"
   ]
  },
  {
   "cell_type": "code",
   "execution_count": null,
   "metadata": {},
   "outputs": [],
   "source": []
  }
 ],
 "metadata": {
  "kernelspec": {
   "display_name": "Python 3",
   "language": "python",
   "name": "python3"
  },
  "language_info": {
   "codemirror_mode": {
    "name": "ipython",
    "version": 3
   },
   "file_extension": ".py",
   "mimetype": "text/x-python",
   "name": "python",
   "nbconvert_exporter": "python",
   "pygments_lexer": "ipython3",
   "version": "3.7.6"
  }
 },
 "nbformat": 4,
 "nbformat_minor": 4
}
