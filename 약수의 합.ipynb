{
 "cells": [
  {
   "cell_type": "code",
   "execution_count": 79,
   "metadata": {},
   "outputs": [
    {
     "data": {
      "text/plain": [
       "[8, 3, 1, 1, 1, 3, 2, 1, 0]"
      ]
     },
     "execution_count": 79,
     "metadata": {},
     "output_type": "execute_result"
    }
   ],
   "source": [
    "prices = [1,4,7,6,3,1,6,9,5]\n",
    "\n",
    "answer = []\n",
    "\n",
    "\n",
    "for i in range(len(prices)):\n",
    "    cnt = 0\n",
    "    for j in range(i + 1, len(prices)):\n",
    "        if prices[i] <= prices[j]:\n",
    "            cnt = cnt + 1\n",
    "        else:\n",
    "            cnt = cnt + 1\n",
    "            break\n",
    "    answer.append(cnt)\n",
    "answer"
   ]
  },
  {
   "cell_type": "code",
   "execution_count": 74,
   "metadata": {},
   "outputs": [
    {
     "data": {
      "text/plain": [
       "[2, 1, 4, 3, 2, 1, 0]"
      ]
     },
     "execution_count": 74,
     "metadata": {},
     "output_type": "execute_result"
    }
   ],
   "source": [
    "prices = [4, 5, 1, 3, 7, 8, 2]\n",
    "answer = []\n",
    "for i in range(0, len(prices)):\n",
    "    cnt = 0\n",
    "    for j in range(i + 1, len(prices)):\n",
    "        if prices[i] <= prices[j]:\n",
    "            cnt += 1\n",
    "        else:\n",
    "            cnt += 1\n",
    "            break\n",
    "    answer.append(cnt)\n",
    "answer"
   ]
  },
  {
   "cell_type": "code",
   "execution_count": null,
   "metadata": {},
   "outputs": [],
   "source": []
  },
  {
   "cell_type": "code",
   "execution_count": 69,
   "metadata": {},
   "outputs": [
    {
     "data": {
      "text/plain": [
       "[2, 0, 1, 0, 4, 0, 3, 0, 2, 0, 1, 0]"
      ]
     },
     "execution_count": 69,
     "metadata": {},
     "output_type": "execute_result"
    }
   ],
   "source": [
    " \n",
    "\n",
    "answer = []\n",
    "\n",
    "for i in range(0, len(prices)-1):\n",
    "    fin = False\n",
    "    for j in range(i+1, len(prices)):\n",
    "        if prices[i] > prices[j]:\n",
    "            answer.append(j-i)\n",
    "            fin = True\n",
    "            break\n",
    "    if fin == False:\n",
    "        answer.append(len(prices)-i-1)\n",
    "\n",
    "    answer.append(0)\n",
    "\n",
    "answer"
   ]
  },
  {
   "cell_type": "code",
   "execution_count": null,
   "metadata": {},
   "outputs": [],
   "source": []
  },
  {
   "cell_type": "code",
   "execution_count": 71,
   "metadata": {},
   "outputs": [
    {
     "data": {
      "text/plain": [
       "[2, 1, 4, 3, 2, 1, 0]"
      ]
     },
     "execution_count": 71,
     "metadata": {},
     "output_type": "execute_result"
    }
   ],
   "source": [
    "prices = [4, 5, 1, 3, 7, 8, 2]\n",
    "answer = []\n",
    "for i in range(0, len(prices)):\n",
    "    cnt = 0\n",
    "    for j in range(i + 1, len(prices)):\n",
    "        if prices[i] <= prices[j]:\n",
    "            cnt += 1\n",
    "        else:\n",
    "            cnt += 1\n",
    "            break\n",
    "    answer.append(cnt)\n",
    "answer"
   ]
  },
  {
   "cell_type": "code",
   "execution_count": null,
   "metadata": {},
   "outputs": [],
   "source": []
  },
  {
   "cell_type": "code",
   "execution_count": null,
   "metadata": {},
   "outputs": [],
   "source": []
  },
  {
   "cell_type": "code",
   "execution_count": 12,
   "metadata": {},
   "outputs": [
    {
     "data": {
      "text/plain": [
       "'-4 -1'"
      ]
     },
     "execution_count": 12,
     "metadata": {},
     "output_type": "execute_result"
    }
   ],
   "source": [
    "s = \"-1 -2 -3 -4\"\n",
    "\n",
    "a  = s.split(\" \")\n",
    "b = list(map(int, a))\n",
    "min_num = min(b)\n",
    "max_num = max(b)\n",
    "\n",
    "answer = str(min_num) + \" \" +  str(max_num)\n",
    "\n",
    "answer"
   ]
  },
  {
   "cell_type": "code",
   "execution_count": 13,
   "metadata": {},
   "outputs": [
    {
     "data": {
      "text/plain": [
       "[-1, -2, -3, -4]"
      ]
     },
     "execution_count": 13,
     "metadata": {},
     "output_type": "execute_result"
    }
   ],
   "source": []
  },
  {
   "cell_type": "code",
   "execution_count": null,
   "metadata": {},
   "outputs": [],
   "source": []
  },
  {
   "cell_type": "code",
   "execution_count": null,
   "metadata": {},
   "outputs": [],
   "source": [
    " ? 1 ? 1 ? 1 ? 1\n",
    " ? 1 ? 1 ? 1 ? 1\n",
    " ? 1 ? 1 ? 1 ? 1\n",
    " ? 1 ? 1 ? 1 ? 1\n",
    "\n",
    "+ + + +\n",
    "+ + + -\n",
    "+ + - +\n",
    "+ - + +\n",
    "- + + +\n",
    "+ + - -\n",
    "+ - + -\n",
    "+ - - +\n",
    "- + + -\n",
    "- + - +\n",
    "- - + +\n",
    "- - - +\n",
    "- - + -\n",
    "- + - -\n",
    "+ - - -\n",
    "- - - -"
   ]
  },
  {
   "cell_type": "code",
   "execution_count": 74,
   "metadata": {},
   "outputs": [
    {
     "name": "stdout",
     "output_type": "stream",
     "text": [
      "[1, -1]\n",
      "[2, 0, 0, -2]\n",
      "[3, 1, 1, -1, 1, -1, -1, -3]\n",
      "[4, 2, 2, 0, 2, 0, 0, -2, 2, 0, 0, -2, 0, -2, -2, -4]\n",
      "[5, 3, 3, 1, 3, 1, 1, -1, 3, 1, 1, -1, 1, -1, -1, -3, 3, 1, 1, -1, 1, -1, -1, -3, 1, -1, -1, -3, -1, -3, -3, -5]\n"
     ]
    }
   ],
   "source": [
    "numbers = [1, 1, 1, 1, 1]\n",
    "target = 3\n",
    "\n",
    "a = [0]\n",
    "for i in numbers:\n",
    "    c = []\n",
    "    for j in a:\n",
    "        c.append(j + i)\n",
    "        c.append(j - i)\n",
    "#         print(c)\n",
    "        \n",
    "    a = c\n",
    "    print(a)\n"
   ]
  },
  {
   "cell_type": "code",
   "execution_count": 14,
   "metadata": {},
   "outputs": [
    {
     "data": {
      "text/plain": [
       "-1"
      ]
     },
     "execution_count": 14,
     "metadata": {},
     "output_type": "execute_result"
    }
   ],
   "source": [
    "a = 1\n",
    "-a"
   ]
  },
  {
   "cell_type": "code",
   "execution_count": 72,
   "metadata": {},
   "outputs": [
    {
     "name": "stdout",
     "output_type": "stream",
     "text": [
      "adsf\n"
     ]
    },
    {
     "data": {
      "text/plain": [
       "-15"
      ]
     },
     "execution_count": 72,
     "metadata": {},
     "output_type": "execute_result"
    }
   ],
   "source": [
    "a = [1, 2, 3, 4, 5]\n",
    "b = -15\n",
    "\n",
    "if sum(a) == b or -sum(a) == b:\n",
    "    print(\"adsf\")\n",
    "\n",
    "-sum(a)"
   ]
  },
  {
   "cell_type": "code",
   "execution_count": 9,
   "metadata": {
    "scrolled": false
   },
   "outputs": [
    {
     "data": {
      "text/plain": [
       "2"
      ]
     },
     "execution_count": 9,
     "metadata": {},
     "output_type": "execute_result"
    }
   ],
   "source": [
    "from itertools import combinations, permutations\n",
    "from copy import copy\n",
    "\n",
    "r = [1, 2, 3, 4, 5]\n",
    "target = 9\n",
    "answer = 0\n",
    "\n",
    "if sum(r) == target or -sum(r) == target :\n",
    "    answer = 1\n",
    "else :\n",
    "    for i in range(1,len(r)):\n",
    "        for j in combinations(r, i):\n",
    "            for g in j:\n",
    "                r.append(-g)\n",
    "                r.remove(g)\n",
    "            if sum(r) == target :\n",
    "                answer += 1\n",
    "            r=[1, 2, 3, 4, 5]\n",
    "answer "
   ]
  },
  {
   "cell_type": "code",
   "execution_count": 15,
   "metadata": {
    "scrolled": false
   },
   "outputs": [
    {
     "data": {
      "text/plain": [
       "5"
      ]
     },
     "execution_count": 15,
     "metadata": {},
     "output_type": "execute_result"
    }
   ],
   "source": [
    "from itertools import combinations, permutations\n",
    "from copy import copy\n",
    "\n",
    "def solution(numbers, target):\n",
    "    r = numbers\n",
    "    b = copy(numbers)\n",
    "    answer = 0\n",
    "    if sum(numbers) == target or -sum(numbers) == target :\n",
    "        answer = 1\n",
    "    else :\n",
    "        for i in range(1,len(r)):\n",
    "            for j in combinations(r, i):\n",
    "#                 print(\"numbers\", numbers)\n",
    "#                 print(\"r = \", r)\n",
    "#                 print(\"a = \", a)\n",
    "#                 print(\"b = \", b)\n",
    "#                 print(\"j = \", j)\n",
    "                for g in j:\n",
    "                    r.append(-g)\n",
    "                    r.remove(g)\n",
    "#                 print(r)\n",
    "#                 print(sum(r))\n",
    "#                 print()\n",
    "                if sum(r) == target :\n",
    "                    answer += 1\n",
    "                r = copy(b)\n",
    "    return answer\n",
    "\n",
    "solution([1, 1, 1, 1, 1], 3)\n"
   ]
  },
  {
   "cell_type": "code",
   "execution_count": 165,
   "metadata": {
    "scrolled": false
   },
   "outputs": [
    {
     "name": "stdout",
     "output_type": "stream",
     "text": [
      "[1, 2, 3, 4, 5, 6]\n",
      "[\n"
     ]
    }
   ],
   "source": [
    "r = [1, 2, 3, 4, 5, 6]\n",
    "a = str(r)\n",
    "print(str(a))\n",
    "b = list(a)\n",
    "print(b[0])"
   ]
  },
  {
   "cell_type": "code",
   "execution_count": 7,
   "metadata": {
    "scrolled": true
   },
   "outputs": [
    {
     "data": {
      "text/plain": [
       "'1'"
      ]
     },
     "execution_count": 7,
     "metadata": {},
     "output_type": "execute_result"
    }
   ],
   "source": [
    "asd = \"[11, 2, 3, 4, 5]\"\n",
    "asd[2]"
   ]
  },
  {
   "cell_type": "code",
   "execution_count": null,
   "metadata": {},
   "outputs": [],
   "source": []
  },
  {
   "cell_type": "code",
   "execution_count": null,
   "metadata": {},
   "outputs": [],
   "source": []
  },
  {
   "cell_type": "code",
   "execution_count": null,
   "metadata": {},
   "outputs": [],
   "source": []
  },
  {
   "cell_type": "code",
   "execution_count": null,
   "metadata": {},
   "outputs": [],
   "source": []
  },
  {
   "cell_type": "code",
   "execution_count": null,
   "metadata": {},
   "outputs": [],
   "source": [
    "12 8\n",
    "4, 24"
   ]
  },
  {
   "cell_type": "code",
   "execution_count": null,
   "metadata": {},
   "outputs": [],
   "source": [
    "6   10\n",
    "\n",
    "2   30"
   ]
  },
  {
   "cell_type": "code",
   "execution_count": null,
   "metadata": {},
   "outputs": [],
   "source": []
  }
 ],
 "metadata": {
  "kernelspec": {
   "display_name": "Python 3",
   "language": "python",
   "name": "python3"
  },
  "language_info": {
   "codemirror_mode": {
    "name": "ipython",
    "version": 3
   },
   "file_extension": ".py",
   "mimetype": "text/x-python",
   "name": "python",
   "nbconvert_exporter": "python",
   "pygments_lexer": "ipython3",
   "version": "3.7.6"
  }
 },
 "nbformat": 4,
 "nbformat_minor": 4
}
