{
 "cells": [
  {
   "cell_type": "code",
   "execution_count": 32,
   "metadata": {},
   "outputs": [],
   "source": [
    "n = 5\n",
    "arr1 = [9, 20, 28, 18, 11]\n",
    "arr2 = [30, 1, 21, 17, 28]"
   ]
  },
  {
   "cell_type": "code",
   "execution_count": 52,
   "metadata": {},
   "outputs": [
    {
     "name": "stdout",
     "output_type": "stream",
     "text": [
      "['01001', '10100', '11100', '10010', '01011']\n",
      "['11110', '00001', '10101', '10001', '11100']\n",
      "['#####', '# # #', '### #', '#  ##', '#####']\n"
     ]
    }
   ],
   "source": [
    "map_list_1 = []\n",
    "map_list_2 = []\n",
    "\n",
    "\n",
    "answer = []\n",
    "\n",
    "for i in range(n):\n",
    "    make_wall_1 = []\n",
    "    pw_1 = bin(arr1[i])[2:]\n",
    "    pw_2 = bin(arr2[i])[2:]\n",
    "    \n",
    "    if len(pw_1) != n:\n",
    "        pw_1 = '0'* (n - len(pw_1)) + pw_1\n",
    "    map_list_1.append(pw_1)\n",
    "    \n",
    "    if len(pw_2) != n:\n",
    "        pw_2 = '0'* (n - len(pw_2)) + pw_2\n",
    "    map_list_2.append(pw_2)\n",
    "    \n",
    "for i in range(n):\n",
    "    map_num = ''\n",
    "    for j in range(n):\n",
    "        if (map_list_1[i][j] == '0') and (map_list_2[i][j] == '0'):\n",
    "            map_num = map_num + ' '\n",
    "        else:\n",
    "            map_num = map_num + '#'\n",
    "    answer.append(map_num)\n",
    "\n",
    "print(answer)\n"
   ]
  },
  {
   "cell_type": "code",
   "execution_count": null,
   "metadata": {},
   "outputs": [],
   "source": [
    "map_list_1 = []\n",
    "map_list_2 = []\n",
    "\n",
    "answer = []\n",
    "\n",
    "for i in range(n):\n",
    "    make_wall_1 = []\n",
    "    pw_1 = bin(arr1[i])[2:]\n",
    "    pw_2 = bin(arr2[i])[2:]\n",
    "    \n",
    "    if len(pw_1) != n:\n",
    "        pw_1 = '0'* (n - len(pw_1)) + pw_1\n",
    "    map_list_1.append(pw_1)\n",
    "    \n",
    "    if len(pw_2) != n:\n",
    "        pw_2 = '0'* (n - len(pw_2)) + pw_2\n",
    "    map_list_2.append(pw_2)\n",
    "    \n",
    "for i in range(n):\n",
    "    map_num = ''\n",
    "    for j in range(n):\n",
    "        if (map_list_1[i][j] == '0') and (map_list_2[i][j] == '0'):\n",
    "            map_num = map_num + ' '\n",
    "        else:\n",
    "            map_num = map_num + '#'\n",
    "    answer.append(map_num)"
   ]
  },
  {
   "cell_type": "code",
   "execution_count": 34,
   "metadata": {},
   "outputs": [
    {
     "name": "stdout",
     "output_type": "stream",
     "text": [
      "[' # ##', ' # ##', ' # ##', ' # ##', ' # ##']\n"
     ]
    }
   ],
   "source": [
    "map_list_2 = []\n",
    "map_real_2 = []\n",
    "for i in range(n):\n",
    "    make_wall = []\n",
    "    pw = bin(arr2[i])[2:]\n",
    "    if len(pw) != n:\n",
    "        pw = '0'* (n - len(pw)) + pw\n",
    "    map_list.append(pw)\n",
    "    for j in map_list_2:\n",
    "        make_zero = ''\n",
    "        for k in j:\n",
    "            if k == '0':\n",
    "                make_zero = make_zero + ' '\n",
    "            else:\n",
    "                make_zero = make_zero + '#'   \n",
    "    map_real_2.append(make_zero)    \n",
    "print(map_real_2)"
   ]
  },
  {
   "cell_type": "code",
   "execution_count": 64,
   "metadata": {
    "scrolled": true
   },
   "outputs": [
    {
     "data": {
      "text/plain": [
       "['######', '###  #', '##  ##', ' #### ', ' #####', '### # ']"
      ]
     },
     "execution_count": 64,
     "metadata": {},
     "output_type": "execute_result"
    }
   ],
   "source": [
    "\n",
    "\n",
    "def solution(n, arr1, arr2):\n",
    "    map_list_1 = []\n",
    "    map_list_2 = []\n",
    "    answer = []\n",
    "\n",
    "    for i in range(n):\n",
    "        make_wall_1 = []\n",
    "        pw_1 = bin(arr1[i])[2:]\n",
    "        pw_2 = bin(arr2[i])[2:]\n",
    "\n",
    "        if len(pw_1) != n:\n",
    "            pw_1 = '0'* (n - len(pw_1)) + pw_1\n",
    "        map_list_1.append(pw_1)\n",
    "\n",
    "        if len(pw_2) != n:\n",
    "            pw_2 = '0'* (n - len(pw_2)) + pw_2\n",
    "        map_list_2.append(pw_2)\n",
    "\n",
    "    for i in range(n):\n",
    "        map_num = ''\n",
    "        for j in range(n):\n",
    "            if (map_list_1[i][j] == '0') and (map_list_2[i][j] == '0'):\n",
    "                map_num = map_num + ' '\n",
    "            else:\n",
    "                map_num = map_num + '#'\n",
    "        answer.append(map_num)\n",
    "    return answer\n",
    "\n",
    "solution(6, [46, 33, 33 ,22, 31, 50], [27 ,56, 19, 14, 14, 10])"
   ]
  },
  {
   "cell_type": "code",
   "execution_count": 18,
   "metadata": {},
   "outputs": [
    {
     "data": {
      "text/plain": [
       "212"
      ]
     },
     "execution_count": 18,
     "metadata": {},
     "output_type": "execute_result"
    }
   ],
   "source": [
    "['######', '###  #', '##  ##', ' #### ', ' #####', '### # ']\n",
    "[\"######\", \"### #\", \"## ##\", \" #### \", \" #####\", \"### # \"]"
   ]
  },
  {
   "cell_type": "code",
   "execution_count": 13,
   "metadata": {
    "scrolled": true
   },
   "outputs": [
    {
     "name": "stdout",
     "output_type": "stream",
     "text": [
      "00111\n"
     ]
    }
   ],
   "source": [
    "a = '111'\n",
    "b = '0'*2 + a\n",
    "print(b)"
   ]
  },
  {
   "cell_type": "code",
   "execution_count": 61,
   "metadata": {},
   "outputs": [
    {
     "data": {
      "text/plain": [
       "'100'"
      ]
     },
     "execution_count": 61,
     "metadata": {},
     "output_type": "execute_result"
    }
   ],
   "source": [
    "bin(4)[2:]"
   ]
  },
  {
   "cell_type": "code",
   "execution_count": 62,
   "metadata": {},
   "outputs": [
    {
     "data": {
      "text/plain": [
       "'101'"
      ]
     },
     "execution_count": 62,
     "metadata": {},
     "output_type": "execute_result"
    }
   ],
   "source": [
    "bin(5)[2:]"
   ]
  },
  {
   "cell_type": "code",
   "execution_count": 63,
   "metadata": {
    "scrolled": true
   },
   "outputs": [
    {
     "data": {
      "text/plain": [
       "'101'"
      ]
     },
     "execution_count": 63,
     "metadata": {},
     "output_type": "execute_result"
    }
   ],
   "source": [
    "bin(4 | 5)[2:]"
   ]
  },
  {
   "cell_type": "code",
   "execution_count": null,
   "metadata": {},
   "outputs": [],
   "source": []
  },
  {
   "cell_type": "code",
   "execution_count": null,
   "metadata": {},
   "outputs": [],
   "source": []
  },
  {
   "cell_type": "code",
   "execution_count": null,
   "metadata": {},
   "outputs": [],
   "source": []
  },
  {
   "cell_type": "code",
   "execution_count": 72,
   "metadata": {},
   "outputs": [
    {
     "name": "stdout",
     "output_type": "stream",
     "text": [
      "------- 111111\n",
      "####### 111111\n",
      "\n",
      "------- 111001\n",
      "####### 111001\n",
      "\n",
      "------- 110011\n",
      "####### 110011\n",
      "\n",
      "------- 11110\n",
      "####### 011110\n",
      "\n",
      "------- 11111\n",
      "####### 011111\n",
      "\n",
      "------- 111010\n",
      "####### 111010\n",
      "\n"
     ]
    },
    {
     "data": {
      "text/plain": [
       "['######', '###  #', '##  ##', ' #### ', ' #####', '### # ']"
      ]
     },
     "execution_count": 72,
     "metadata": {},
     "output_type": "execute_result"
    }
   ],
   "source": [
    "# 다른 사람 코드\n",
    "\n",
    "def solution(n, arr1, arr2):\n",
    "    answer = []\n",
    "    for i,j in zip(arr1,arr2):\n",
    "        a12 = str(bin(i|j)[2:])\n",
    "        print('-------', a12)\n",
    "        a12=a12.rjust(n,'0')\n",
    "        print(\"#######\", a12)\n",
    "        print()\n",
    "        a12=a12.replace('1','#')\n",
    "        a12=a12.replace('0',' ')\n",
    "        answer.append(a12)\n",
    "    return answer\n",
    "\n",
    "solution(6, [46, 33, 33 ,22, 31, 50], [27 ,56, 19, 14, 14, 10])"
   ]
  },
  {
   "cell_type": "code",
   "execution_count": null,
   "metadata": {},
   "outputs": [],
   "source": []
  }
 ],
 "metadata": {
  "kernelspec": {
   "display_name": "Python 3",
   "language": "python",
   "name": "python3"
  },
  "language_info": {
   "codemirror_mode": {
    "name": "ipython",
    "version": 3
   },
   "file_extension": ".py",
   "mimetype": "text/x-python",
   "name": "python",
   "nbconvert_exporter": "python",
   "pygments_lexer": "ipython3",
   "version": "3.7.6"
  }
 },
 "nbformat": 4,
 "nbformat_minor": 4
}
