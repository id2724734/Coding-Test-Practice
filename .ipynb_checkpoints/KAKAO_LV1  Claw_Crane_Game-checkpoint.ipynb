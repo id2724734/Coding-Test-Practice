{
 "cells": [
  {
   "cell_type": "code",
   "execution_count": 36,
   "metadata": {},
   "outputs": [
    {
     "name": "stdout",
     "output_type": "stream",
     "text": [
      "[1, 3]\n"
     ]
    }
   ],
   "source": [
    "board = [[0,0,0,0,0],[0,0,1,0,3],[0,2,5,0,1],[4,2,4,4,2],[3,5,1,3,1]]\n",
    "moves = [1,5,3,5,1,2,1,4]\n",
    "\n",
    "answer = []\n",
    "\n",
    "bucket = []    # 담을 바구니 리스트\n",
    "\n",
    "\n",
    "for move in moves:\n",
    "    for i in range(len(board)):\n",
    "        if board[i][move - 1] > 0:\n",
    "            bucket.append(board[i][move - 1])\n",
    "#            print(bucket)\n",
    "            board[i][move - 1] = 0\n",
    "            if bucket[-1 : ] == bucket[-2 : -1]:\n",
    "                answer.append(bucket[-1:][0])\n",
    "                bucket = bucket[ : -2]\n",
    "            break\n",
    "print((answer))\n",
    "# print(answer*2)\n",
    "            "
   ]
  },
  {
   "cell_type": "code",
   "execution_count": null,
   "metadata": {},
   "outputs": [],
   "source": [
    "board = [[0,0,0,0,0],\n",
    "         [0,0,1,0,3],\n",
    "         [0,2,5,0,1],\n",
    "         [4,2,4,4,2],\n",
    "         [3,5,1,3,1] ]\n",
    "\n",
    "board = [[0,0,0,0,0],\n",
    "         [0,0,0,0,0],\n",
    "         [0,0,5,0,0],\n",
    "         [0,2,4,0,2],\n",
    "         [0,5,1,3,1] ]\n",
    "\n",
    "moves =  [1, 5, 3, 5, 1, 2, 1, 4]\n",
    "\n",
    "bucket = [4, 3, 1, 1, 3, 2, 0, 4]\n",
    "bucket = [4, 2, 0, 4]"
   ]
  },
  {
   "cell_type": "code",
   "execution_count": null,
   "metadata": {},
   "outputs": [],
   "source": []
  },
  {
   "cell_type": "code",
   "execution_count": null,
   "metadata": {},
   "outputs": [],
   "source": []
  },
  {
   "cell_type": "code",
   "execution_count": null,
   "metadata": {},
   "outputs": [],
   "source": []
  },
  {
   "cell_type": "code",
   "execution_count": null,
   "metadata": {},
   "outputs": [],
   "source": []
  },
  {
   "cell_type": "code",
   "execution_count": null,
   "metadata": {},
   "outputs": [],
   "source": [
    "def solution(board, moves):\n",
    "    answer = 0\n",
    "    bucket = []    # 담을 바구니 리스트\n",
    "    for move in moves:\n",
    "        for i in range(len(board)):\n",
    "            if board[i][move - 1] > 0:\n",
    "                bucket.append(board[i][move - 1])\n",
    "    #            print(bucket)\n",
    "                board[i][move - 1] = 0\n",
    "                if bucket[-1 : ] == bucket[-2 : -1]:\n",
    "                    answer += 1\n",
    "                    bucket = bucket[ : -2]\n",
    "                break\n",
    "    \n",
    "    return answer * 2"
   ]
  },
  {
   "cell_type": "code",
   "execution_count": null,
   "metadata": {},
   "outputs": [],
   "source": [
    "def solution(board, moves):\n",
    "    bucket = []\n",
    "    answer = []\n",
    "    for move in moves:\n",
    "        for i in range(len(board)):\n",
    "            if board[i][move-1] > 0:\n",
    "                bucket.append(board[i][move-1])\n",
    "                board[i][move-1] = 0\n",
    "                if bucket[-1:] == bucket[-2:-1]:\n",
    "                    answer += bucket[-1:]\n",
    "                    bucket = bucket[:-2]\n",
    "                break\n",
    "    return len(answer)*2"
   ]
  },
  {
   "cell_type": "code",
   "execution_count": null,
   "metadata": {},
   "outputs": [],
   "source": []
  }
 ],
 "metadata": {
  "kernelspec": {
   "display_name": "Python 3",
   "language": "python",
   "name": "python3"
  },
  "language_info": {
   "codemirror_mode": {
    "name": "ipython",
    "version": 3
   },
   "file_extension": ".py",
   "mimetype": "text/x-python",
   "name": "python",
   "nbconvert_exporter": "python",
   "pygments_lexer": "ipython3",
   "version": "3.7.6"
  }
 },
 "nbformat": 4,
 "nbformat_minor": 4
}
