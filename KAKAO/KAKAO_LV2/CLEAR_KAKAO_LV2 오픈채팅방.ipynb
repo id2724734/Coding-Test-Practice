{
 "cells": [
  {
   "cell_type": "code",
   "execution_count": null,
   "metadata": {},
   "outputs": [],
   "source": [
    "채팅방에 누군가 들어오면 다음 메시지가 출력된다.\n",
    "[닉네임]님이 들어왔습니다.\n",
    "\n",
    "채팅방에서 누군가 나가면 다음 메시지가 출력된다.\n",
    "[닉네임]님이 나갔습니다.\n",
    "\n",
    "채팅방에서 닉네임을 변경하는 방법은 다음과 같이 두 가지이다.\n",
    "\n",
    "채팅방을 나간 후, 새로운 닉네임으로 다시 들어간다.\n",
    "채팅방에서 닉네임을 변경한다.\n",
    "닉네임을 변경할 때는 기존에 채팅방에 출력되어 있던 메시지의 닉네임도 전부 변경된다.\n",
    "\n",
    "예를 들어, 채팅방에 Muzi와 Prodo라는 닉네임을 사용하는 사람이 순서대로 들어오면 채팅방에는 다음과 같이 메시지가 출력된다.\n",
    "\n",
    "Muzi님이 들어왔습니다.\n",
    "Prodo님이 들어왔습니다.\n",
    "\n",
    "채팅방에 있던 사람이 나가면 채팅방에는 다음과 같이 메시지가 남는다.\n",
    "\n",
    "Muzi님이 들어왔습니다.\n",
    "Prodo님이 들어왔습니다.\n",
    "Muzi님이 나갔습니다.\n",
    "\n",
    "Muzi가 나간후 다시 들어올 때, Prodo 라는 닉네임으로 들어올 경우 기존에 채팅방에 남아있던 Muzi도 Prodo로 다음과 같이 변경된다.\n",
    "\n",
    "Prodo님이 들어왔습니다.\n",
    "Prodo님이 들어왔습니다.\n",
    "Prodo님이 나갔습니다.\n",
    "Prodo님이 들어왔습니다.\n",
    "\n",
    "채팅방은 중복 닉네임을 허용하기 때문에,\n",
    "현재 채팅방에는 Prodo라는 닉네임을 사용하는 사람이 두 명이 있다. \n",
    "이제, 채팅방에 두 번째로 들어왔던 Prodo가 Ryan으로 닉네임을 변경하면 채팅방 메시지는 다음과 같이 변경된다.\n",
    "\n",
    "Prodo님이 들어왔습니다.\n",
    "Ryan님이 들어왔습니다.\n",
    "Prodo님이 나갔습니다.\n",
    "Prodo님이 들어왔습니다.\n",
    "\n",
    "채팅방에 들어오고 나가거나, 닉네임을 변경한 기록이 담긴 문자열 배열 record가 매개변수로 주어질 때,\n",
    "모든 기록이 처리된 후, 최종적으로 방을 개설한 사람이 보게 되는 메시지를 문자열 배열 형태로 return 하도록 solution 함수를 완성하라."
   ]
  },
  {
   "cell_type": "code",
   "execution_count": null,
   "metadata": {},
   "outputs": [],
   "source": [
    "제한사항\n",
    "record는 다음과 같은 문자열이 담긴 배열이며, 길이는 1 이상 100,000 이하이다.\n",
    "다음은 record에 담긴 문자열에 대한 설명이다.\n",
    "모든 유저는 [유저 아이디]로 구분한다.\n",
    "[유저 아이디] 사용자가 [닉네임]으로 채팅방에 입장 - Enter [유저 아이디] [닉네임] (ex. Enter uid1234 Muzi)\n",
    "[유저 아이디] 사용자가 채팅방에서 퇴장 - Leave [유저 아이디] (ex. Leave uid1234)\n",
    "[유저 아이디] 사용자가 닉네임을 [닉네임]으로 변경 - Change [유저 아이디] [닉네임] (ex. Change uid1234 Muzi)\n",
    "첫 단어는 Enter, Leave, Change 중 하나이다.\n",
    "각 단어는 공백으로 구분되어 있으며, 알파벳 대문자, 소문자, 숫자로만 이루어져있다.\n",
    "유저 아이디와 닉네임은 알파벳 대문자, 소문자를 구별한다.\n",
    "유저 아이디와 닉네임의 길이는 1 이상 10 이하이다.\n",
    "채팅방에서 나간 유저가 닉네임을 변경하는 등 잘못 된 입력은 주어지지 않는다."
   ]
  },
  {
   "cell_type": "code",
   "execution_count": null,
   "metadata": {},
   "outputs": [],
   "source": [
    "입출력 예\n",
    "record\tresult\n",
    "[\"Enter uid1234 Muzi\", \"Enter uid4567 Prodo\",\"Leave uid1234\",\"Enter uid1234 Prodo\",\"Change uid4567 Ryan\"]\n",
    "[\"Prodo님이 들어왔습니다.\", \"Ryan님이 들어왔습니다.\", \"Prodo님이 나갔습니다.\", \"Prodo님이 들어왔습니다.\"]"
   ]
  },
  {
   "cell_type": "code",
   "execution_count": 26,
   "metadata": {},
   "outputs": [
    {
     "data": {
      "text/plain": [
       "['Prodo님이 들어왔습니다.', 'Ryan님이 들어왔습니다.', 'Prodo님이 나갔습니다.', 'Prodo님이 들어왔습니다.']"
      ]
     },
     "execution_count": 26,
     "metadata": {},
     "output_type": "execute_result"
    }
   ],
   "source": [
    "def solution(record):\n",
    "    id_dict = dict()\n",
    "    result = []\n",
    "    answer = []\n",
    "\n",
    "    for i in record:\n",
    "        if i.split()[0] == 'Enter':\n",
    "            id_dict[i.split()[1]] = i.split()[2]\n",
    "            result.append([i.split()[1], '님이 들어왔습니다.'])\n",
    "\n",
    "        elif i.split()[0] == 'Leave':\n",
    "            result.append([i.split()[1], '님이 나갔습니다.'])\n",
    "\n",
    "        elif i.split()[0] == 'Change':\n",
    "            id_dict[i.split()[1]] = i.split()[2]\n",
    "\n",
    "    for j in result:\n",
    "        answer.append(id_dict[j[0]] + j[1])\n",
    "    \n",
    "    return answer\n",
    "\n",
    "solution([\"Enter uid1234 Muzi\", \"Enter uid4567 Prodo\",\"Leave uid1234\",\"Enter uid1234 Prodo\",\"Change uid4567 Ryan\"])\n"
   ]
  },
  {
   "cell_type": "code",
   "execution_count": 52,
   "metadata": {},
   "outputs": [
    {
     "data": {
      "text/plain": [
       "['Prodo님이 들어왔습니다.',\n",
       " 'Ryan님이 들어왔습니다.',\n",
       " 'Prodo님이 나갔습니다.',\n",
       " 'Prodo님이 들어왔습니다.',\n",
       " 'Faker님이 들어왔습니다.',\n",
       " 'Faker님이 나갔습니다.']"
      ]
     },
     "execution_count": 52,
     "metadata": {},
     "output_type": "execute_result"
    }
   ],
   "source": [
    "record = [\"Enter uid1234 Muzi\", \"Enter uid4567 Prodo\",\"Leave uid1234\",\"Enter uid1234 Prodo\",\"Change uid4567 Ryan\", \"Enter uid6789 Faker\",\"Leave uid6789\"]\n",
    "\n",
    "id_dict = dict()\n",
    "result = []\n",
    "answer = []\n",
    "\n",
    "for i in record:\n",
    "    if i.split()[0] == 'Enter':\n",
    "        id_dict[i.split()[1]] = i.split()[2]\n",
    "        result.append([i.split()[1], '님이 들어왔습니다.'])\n",
    "        \n",
    "    elif i.split()[0] == 'Leave':\n",
    "        result.append([i.split()[1], '님이 나갔습니다.'])\n",
    "        \n",
    "    elif i.split()[0] == 'Change':\n",
    "        id_dict[i.split()[1]] = i.split()[2]\n",
    "\n",
    "for j in result:\n",
    "    answer.append(id_dict[j[0]] + j[1])\n",
    "\n",
    "answer"
   ]
  },
  {
   "cell_type": "code",
   "execution_count": 6,
   "metadata": {
    "scrolled": true
   },
   "outputs": [
    {
     "data": {
      "text/plain": [
       "'Enter'"
      ]
     },
     "execution_count": 6,
     "metadata": {},
     "output_type": "execute_result"
    }
   ],
   "source": [
    "a  = \"Enter uid1234 Muzi\"\n",
    "a.split()[0]"
   ]
  },
  {
   "cell_type": "code",
   "execution_count": 37,
   "metadata": {},
   "outputs": [
    {
     "name": "stdout",
     "output_type": "stream",
     "text": [
      "{}\n",
      "[['uid1234', '님이 들어왔습니다.'], ['uid4567', '님이 들어왔습니다.'], ['uid1234', '님이 나갔습니다.'], ['uid1234', '님이 들어왔습니다.']]\n"
     ]
    },
    {
     "data": {
      "text/plain": [
       "['Prodo님이 들어왔습니다.', 'Ryan님이 들어왔습니다.', 'Prodo님이 나갔습니다.', 'Prodo님이 들어왔습니다.']"
      ]
     },
     "execution_count": 37,
     "metadata": {},
     "output_type": "execute_result"
    }
   ],
   "source": [
    "def solution(record):\n",
    "    id_dict = dict()\n",
    "    result = []\n",
    "    answer = []\n",
    "\n",
    "    for i in record:\n",
    "        if i.split()[0] == 'Enter':\n",
    "            id_dict[i.split()[1]] = i.split()[2]\n",
    "            result.append([i.split()[1], '님이 들어왔습니다.'])\n",
    "\n",
    "        elif i.split()[0] == 'Leave':\n",
    "            result.append([i.split()[1], '님이 나갔습니다.'])\n",
    "\n",
    "        elif i.split()[0] == 'Change':\n",
    "            id_dict[i.split()[1]] = i.split()[2]\n",
    "\n",
    "    for j in result:\n",
    "        answer.append(id_dict[j[0]] + j[1])\n",
    "    \n",
    "    return answer\n",
    "\n",
    "solution([\"Enter uid1234 Muzi\", \"Enter uid4567 Prodo\",\"Leave uid1234\",\"Enter uid1234 Prodo\",\"Change uid4567 Ryan\"])"
   ]
  }
 ],
 "metadata": {
  "kernelspec": {
   "display_name": "Python 3",
   "language": "python",
   "name": "python3"
  },
  "language_info": {
   "codemirror_mode": {
    "name": "ipython",
    "version": 3
   },
   "file_extension": ".py",
   "mimetype": "text/x-python",
   "name": "python",
   "nbconvert_exporter": "python",
   "pygments_lexer": "ipython3",
   "version": "3.7.6"
  }
 },
 "nbformat": 4,
 "nbformat_minor": 4
}
