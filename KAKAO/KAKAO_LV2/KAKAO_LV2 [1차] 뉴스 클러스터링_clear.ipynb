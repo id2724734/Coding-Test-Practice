{
 "cells": [
  {
   "cell_type": "code",
   "execution_count": null,
   "metadata": {},
   "outputs": [],
   "source": [
    "개발의 방향을 잡기 위해 튜브는 우선 최근 화제가 되고 있는 카카오 신입 개발자 공채 관련 기사를 검색해보았다.\n",
    "\n",
    "카카오 첫 공채..'블라인드' 방식 채용\n",
    "카카오, 합병 후 첫 공채.. 블라인드 전형으로 개발자 채용\n",
    "카카오, 블라인드 전형으로 신입 개발자 공채\n",
    "카카오 공채, 신입 개발자 코딩 능력만 본다\n",
    "카카오, 신입 공채.. 코딩 실력만 본다\n",
    "카카오 코딩 능력만으로 2018 신입 개발자 뽑는다\n",
    "\n",
    "기사의 제목을 기준으로 블라인드 전형에 주목하는 기사와 코딩 테스트에 주목하는 기사로 나뉘는 걸 발견했다. \n",
    "튜브는 이들을 각각 묶어서 보여주면 카카오 공채 관련 기사를 찾아보는 사용자에게 유용할 듯싶었다.\n",
    "\n",
    "유사한 기사를 묶는 기준을 정하기 위해서 논문과 자료를 조사하던 튜브는 자카드 유사도라는 방법을 찾아냈다."
   ]
  },
  {
   "cell_type": "code",
   "execution_count": null,
   "metadata": {},
   "outputs": [],
   "source": [
    "자카드 유사도는 집합 간의 유사도를 검사하는 여러 방법 중의 하나로 알려져 있다.\n",
    "두 집합 A, B 사이의 자카드 유사도 J(A, B)는 두 집합의 교집합 크기를 두 집합의 합집합 크기로 나눈 값으로 정의된다.\n",
    "\n",
    "예를 들어 집합 A = {1, 2, 3}, 집합 B = {2, 3, 4}라고 할 때, 교집합 A ∩ B = {2, 3}, 합집합 A ∪ B = {1, 2, 3, 4}이 되므로,\n",
    "집합 A, B 사이의 자카드 유사도 J(A, B) = 2/4 = 0.5가 된다. \n",
    "집합 A와 집합 B가 모두 공집합일 경우에는 나눗셈이 정의되지 않으니 따로 J(A, B) = 1로 정의한다.\n",
    "\n",
    "자카드 유사도는 원소의 중복을 허용하는 다중집합에 대해서 확장할 수 있다.\n",
    "다중집합 A는 원소 1을 3개 가지고 있고, 다중집합 B는 원소 1을 5개 가지고 있다고 하자.\n",
    "이 다중집합의 교집합 A ∩ B는 원소 1을 min(3, 5)인 3개, 합집합 A ∪ B는 원소 1을 max(3, 5)인 5개 가지게 된다.\n",
    "다중집합 A = {1, 1, 2, 2, 3}, 다중집합 B = {1, 2, 2, 4, 5}라고 하면, \n",
    "교집합 A ∩ B = {1, 2, 2}, 합집합 A ∪ B = {1, 1, 2, 2, 3, 4, 5}가 되므로, 자카드 유사도 J(A, B) = 3/7, 약 0.42가 된다.\n",
    "\n",
    "이를 이용하여 문자열 사이의 유사도를 계산하는데 이용할 수 있다. \n",
    "문자열 FRANCE와 FRENCH가 주어졌을 때, 이를 두 글자씩 끊어서 다중집합을 만들 수 있다. \n",
    "각각 {FR, RA, AN, NC, CE}, {FR, RE, EN, NC, CH}가 되며, 교집합은 {FR, NC}, 합집합은 {FR, RA, AN, NC, CE, RE, EN, CH}가 되므로, \n",
    "두 문자열 사이의 자카드 유사도 J(\"FRANCE\", \"FRENCH\") = 2/8 = 0.25가 된다."
   ]
  },
  {
   "cell_type": "code",
   "execution_count": null,
   "metadata": {},
   "outputs": [],
   "source": [
    "입력으로는 str1과 str2의 두 문자열이 들어온다. 각 문자열의 길이는 2 이상, 1,000 이하이다.\n",
    "입력으로 들어온 문자열은 두 글자씩 끊어서 다중집합의 원소로 만든다. \n",
    "이때 영문자로 된 글자 쌍만 유효하고, 기타 공백이나 숫자, 특수 문자가 들어있는 경우는 그 글자 쌍을 버린다. \n",
    "예를 들어 ab+가 입력으로 들어오면, ab만 다중집합의 원소로 삼고, b+는 버린다.\n",
    "다중집합 원소 사이를 비교할 때, 대문자와 소문자의 차이는 무시한다. AB와 Ab, ab는 같은 원소로 취급한다."
   ]
  },
  {
   "cell_type": "code",
   "execution_count": null,
   "metadata": {},
   "outputs": [],
   "source": [
    "입력으로 들어온 두 문자열의 자카드 유사도를 출력한다.\n",
    "유사도 값은 0에서 1 사이의 실수이므로, 이를 다루기 쉽도록 65536을 곱한 후에 소수점 아래를 버리고 정수부만 출력한다."
   ]
  },
  {
   "cell_type": "code",
   "execution_count": null,
   "metadata": {},
   "outputs": [],
   "source": [
    "str1\tstr2\tanswer\n",
    "FRANCE\tfrench\t16384\n",
    "handshake\tshake hands\t65536\n",
    "aa1+aa2\tAAAA12\t43690\n",
    "E=M*C^2\te=m*c^2\t65536"
   ]
  },
  {
   "cell_type": "code",
   "execution_count": null,
   "metadata": {},
   "outputs": [],
   "source": [
    "str1 = 'FRANCE'\n",
    "str2 = 'french'\n",
    "\n",
    "str1 = 'handshake'   \n",
    "str2 = 'shake hands'\n",
    "\n",
    "str1 = 'aa1+aa2'\n",
    "str2 = 'AAAA12'\n",
    "\n",
    "str1 = 'E=M*C^2'\n",
    "str2 = 'e=m*c^2'"
   ]
  },
  {
   "cell_type": "code",
   "execution_count": 133,
   "metadata": {},
   "outputs": [
    {
     "name": "stdout",
     "output_type": "stream",
     "text": [
      "28086\n"
     ]
    }
   ],
   "source": [
    "str1 = 'aaabab'\n",
    "str2 = 'aabdab'\n",
    "\n",
    "import re\n",
    "\n",
    "str1_list = []\n",
    "str2_list = []\n",
    "\n",
    "for i in range(len(str1) - 1):\n",
    "    if bool(re.match('[a-z][a-z]', str1.lower()[i] + str1.lower()[i+1])):\n",
    "        str1_list.append(str1.lower()[i] + str1.lower()[i+1])\n",
    "\n",
    "for i in range(len(str2) - 1):\n",
    "    if bool(re.match('[a-z][a-z]', str2.lower()[i] + str2.lower()[i+1])):\n",
    "        str2_list.append(str2.lower()[i] + str2.lower()[i+1])\n",
    "\n",
    "if len(str1_list) == 0 or len(str2_list) == 0:\n",
    "    answer = 65536\n",
    "else:\n",
    "    cnt_gyo = []\n",
    "    gyo = set(str1_list) & set(str2_list)\n",
    "    for i in gyo:\n",
    "        cnt_gyo.append(min(str1_list.count(i), str2_list.count(i)))\n",
    "\n",
    "    cnt_hap = []\n",
    "    hap = set(str1_list) | set(str2_list)\n",
    "    for i in hap:\n",
    "        cnt_hap.append(max(str1_list.count(i), str2_list.count(i)))\n",
    "\n",
    "    answer = int(sum(cnt_gyo) / sum(cnt_hap) * 65536)\n",
    "    \n",
    "print(answer)"
   ]
  },
  {
   "cell_type": "code",
   "execution_count": 155,
   "metadata": {},
   "outputs": [
    {
     "data": {
      "text/plain": [
       "0"
      ]
     },
     "execution_count": 155,
     "metadata": {},
     "output_type": "execute_result"
    }
   ],
   "source": [
    "def solution(str1, str2):\n",
    "    import re\n",
    "\n",
    "    str1_list = []\n",
    "    str2_list = []\n",
    "\n",
    "    for i in range(len(str1) - 1):\n",
    "        if bool(re.match('[a-z][a-z]', str1.lower()[i] + str1.lower()[i+1])):\n",
    "            str1_list.append(str1.lower()[i] + str1.lower()[i+1])\n",
    "\n",
    "    for i in range(len(str2) - 1):\n",
    "        if bool(re.match('[a-z][a-z]', str2.lower()[i] + str2.lower()[i+1])):\n",
    "            str2_list.append(str2.lower()[i] + str2.lower()[i+1])\n",
    "\n",
    "    if len(str1_list) == 0 and len(str2_list) == 0:\n",
    "        answer = 65536\n",
    "    else:\n",
    "        cnt_gyo = []\n",
    "        cnt_hap = []\n",
    "        gyo = set(str1_list) & set(str2_list)\n",
    "        hap = set(str1_list) | set(str2_list)\n",
    "\n",
    "        for i in gyo:\n",
    "            cnt_gyo.append(min(str1_list.count(i), str2_list.count(i)))\n",
    "        for i in hap:\n",
    "            cnt_hap.append(max(str1_list.count(i), str2_list.count(i)))\n",
    "\n",
    "        answer = int(sum(cnt_gyo) / sum(cnt_hap) * 65536)\n",
    "    return answer\n",
    "\n",
    "\n",
    "str1 = 'FRANCE'\n",
    "str2 = 'french'\n",
    "#16384\n",
    "\n",
    "# str1 = 'handshake'   \n",
    "# str2 = 'shake hands'\n",
    "# #65536\n",
    "\n",
    "# str1 = 'aa1+aa2'\n",
    "# str2 = 'AAAA12'\n",
    "# #43690\n",
    "\n",
    "# str1 = 'E=M*C^2'\n",
    "# str2 = 'e=m*c^2'\n",
    "# #65536\n",
    "\n",
    "# str1 = 'aaabab'\n",
    "# str2 = 'aabdab'\n",
    "\n",
    "str1 = 'aaa'\n",
    "str2 = 'bbb'\n",
    "\n",
    "solution(str1, str2)"
   ]
  },
  {
   "cell_type": "code",
   "execution_count": 128,
   "metadata": {},
   "outputs": [
    {
     "name": "stdout",
     "output_type": "stream",
     "text": [
      "{'aa', 'ab'}\n",
      "{'bd', 'aa', 'da', 'ba', 'ab'}\n"
     ]
    }
   ],
   "source": [
    "str1_list = ['aa', 'aa', 'ab', 'ba', 'ab']\n",
    "str2_list = ['aa', 'ab', 'bd', 'da', 'ab']\n",
    "print(gyo)\n",
    "print(hap)"
   ]
  },
  {
   "cell_type": "code",
   "execution_count": 127,
   "metadata": {},
   "outputs": [
    {
     "data": {
      "text/plain": [
       "3"
      ]
     },
     "execution_count": 127,
     "metadata": {},
     "output_type": "execute_result"
    }
   ],
   "source": [
    "cnt_gyo = []\n",
    "gyo = set(str1_list) & set(str2_list)\n",
    "for i in gyo:\n",
    "    cnt_gyo.append(min(str1_list.count(i), str2_list.count(i)))\n",
    "    \n",
    "sum(cnt_gyo)\n",
    "\n",
    "cnt_hap = []\n",
    "hap = set(str1_list) | set(str2_list)\n",
    "for i in hap:\n",
    "    cnt_hap.append(max(str1_list.count(i), str2_list.count(i)))\n",
    "\n",
    "sum(cnt_hap)\n",
    "\n",
    "answer = sum(cnt_gyo) / sum(cnt_hap) * 65535"
   ]
  },
  {
   "cell_type": "code",
   "execution_count": 130,
   "metadata": {},
   "outputs": [
    {
     "data": {
      "text/plain": [
       "7"
      ]
     },
     "execution_count": 130,
     "metadata": {},
     "output_type": "execute_result"
    }
   ],
   "source": [
    "cnt_hap = []\n",
    "hap = set(str1_list) | set(str2_list)\n",
    "for i in hap:\n",
    "    cnt_hap.append(max(str1_list.count(i), str2_list.count(i)))\n",
    "\n",
    "sum(cnt_hap)"
   ]
  },
  {
   "cell_type": "code",
   "execution_count": null,
   "metadata": {},
   "outputs": [],
   "source": []
  },
  {
   "cell_type": "code",
   "execution_count": null,
   "metadata": {},
   "outputs": [],
   "source": []
  },
  {
   "cell_type": "code",
   "execution_count": null,
   "metadata": {},
   "outputs": [],
   "source": []
  },
  {
   "cell_type": "code",
   "execution_count": null,
   "metadata": {},
   "outputs": [],
   "source": []
  },
  {
   "cell_type": "code",
   "execution_count": null,
   "metadata": {},
   "outputs": [],
   "source": []
  },
  {
   "cell_type": "code",
   "execution_count": null,
   "metadata": {},
   "outputs": [],
   "source": []
  },
  {
   "cell_type": "code",
   "execution_count": null,
   "metadata": {},
   "outputs": [],
   "source": []
  },
  {
   "cell_type": "code",
   "execution_count": null,
   "metadata": {},
   "outputs": [],
   "source": []
  },
  {
   "cell_type": "code",
   "execution_count": null,
   "metadata": {},
   "outputs": [],
   "source": []
  },
  {
   "cell_type": "code",
   "execution_count": null,
   "metadata": {},
   "outputs": [],
   "source": []
  }
 ],
 "metadata": {
  "kernelspec": {
   "display_name": "Python 3",
   "language": "python",
   "name": "python3"
  },
  "language_info": {
   "codemirror_mode": {
    "name": "ipython",
    "version": 3
   },
   "file_extension": ".py",
   "mimetype": "text/x-python",
   "name": "python",
   "nbconvert_exporter": "python",
   "pygments_lexer": "ipython3",
   "version": "3.7.6"
  }
 },
 "nbformat": 4,
 "nbformat_minor": 4
}
