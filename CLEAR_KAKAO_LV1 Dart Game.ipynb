{
 "cells": [
  {
   "cell_type": "code",
   "execution_count": 25,
   "metadata": {},
   "outputs": [],
   "source": [
    "# 다트 게임은 총 3번의 기회로 구성된다.\n",
    "# 각 기회마다 얻을 수 있는 점수는 0점에서 10점까지이다.\n",
    "# 점수와 함께 Single(S), Double(D), Triple(T) 영역이 존재하고 각 영역 당첨 시 점수에서 1제곱, 2제곱, 3제곱 (점수1 , 점수2 , 점수3 )으로 계산된다.\n",
    "# 옵션으로 스타상(*) , 아차상(#)이 존재하며 스타상(*) 당첨 시 해당 점수와 바로 전에 얻은 점수를 각 2배로 만든다. 아차상(#) 당첨 시 해당 점수는 마이너스된다.\n",
    "# 스타상(*)은 첫 번째 기회에서도 나올 수 있다. 이 경우 첫 번째 스타상(*)의 점수만 2배가 된다. (예제 4번 참고)\n",
    "# 스타상(*)의 효과는 다른 스타상(*)의 효과와 중첩될 수 있다. 이 경우 중첩된 스타상(*) 점수는 4배가 된다. (예제 4번 참고)\n",
    "# 스타상(*)의 효과는 아차상(#)의 효과와 중첩될 수 있다. 이 경우 중첩된 아차상(#)의 점수는 -2배가 된다. (예제 5번 참고)\n",
    "# Single(S), Double(D), Triple(T)은 점수마다 하나씩 존재한다.\n",
    "# 스타상(*), 아차상(#)은 점수마다 둘 중 하나만 존재할 수 있으며, 존재하지 않을 수도 있다.\n",
    "# 0~10의 정수와 문자 S, D, T, *, #로 구성된 문자열이 입력될 시 총점수를 반환하는 함수를 작성하라."
   ]
  },
  {
   "cell_type": "markdown",
   "metadata": {},
   "source": [
    "# 예제\tdartResult\tanswer\t설명 \n",
    "# 1 -\t1S2D*3T\t37 _______________\t11\n",
    "# 2 - \t1D2S#10S _______________\t9\n",
    "# 3 -\t1D2S0T _______________\t3\n",
    "# 4 - 1S*2T*3S _______________\t23\t\n",
    "# 5\t- 1D#2S*3S _______________\t5\t\n",
    "# 6\t- 1T2D3D# _______________\t-4\t\n",
    "# 7\t- 1D2S3T* _______________\t59\t"
   ]
  },
  {
   "cell_type": "code",
   "execution_count": 24,
   "metadata": {},
   "outputs": [
    {
     "name": "stdout",
     "output_type": "stream",
     "text": [
      "59\n"
     ]
    }
   ],
   "source": [
    "dartResult = \"1D2S3T*\"\n",
    "\n",
    "import re\n",
    "\n",
    "answer = 0\n",
    "ans_list = []\n",
    "\n",
    "p = re.compile('(\\d+)([SDT])([*#]?)')\n",
    "dart = p.findall(dartResult)\n",
    "\n",
    "for i in range(3):\n",
    "    if dart[i][1] == 'D':\n",
    "        ans_list.append(int(dart[i][0]) ** 2)\n",
    "    elif dart[i][1] == 'T':\n",
    "        ans_list.append(int(dart[i][0]) ** 3)\n",
    "    else:\n",
    "        ans_list.append(int(dart[i][0]))\n",
    "\n",
    "for j in range(3):\n",
    "    if dart[j][2] == '#':\n",
    "        ans_list[j] = -ans_list[j]\n",
    "        \n",
    "    if dart[j][2] == '*' and j == 0 :\n",
    "        ans_list[j] = ans_list[j] * 2\n",
    "    elif dart[j][2] == '*' and j > 0 :\n",
    "        ans_list[j-1] = ans_list[j-1] * 2\n",
    "        ans_list[j] = ans_list[j] * 2\n",
    "        \n",
    "answer = sum(ans_list)\n",
    "\n",
    "print(answer)"
   ]
  },
  {
   "cell_type": "code",
   "execution_count": 22,
   "metadata": {},
   "outputs": [],
   "source": [
    "# Submit Code\n",
    "\n",
    "def solution(dartResult):\n",
    "    import re\n",
    "\n",
    "    answer = 0\n",
    "    ans_list = []\n",
    "\n",
    "    p = re.compile('(\\d+)([SDT])([*#]?)')\n",
    "    dart = p.findall(dartResult)\n",
    "\n",
    "    for i in range(3):\n",
    "        if dart[i][1] == 'D':\n",
    "            ans_list.append(int(dart[i][0]) ** 2)\n",
    "        elif dart[i][1] == 'T':\n",
    "            ans_list.append(int(dart[i][0]) ** 3)\n",
    "        else:\n",
    "            ans_list.append(int(dart[i][0]))\n",
    "\n",
    "    for j in range(3):\n",
    "        if dart[j][2] == '#':\n",
    "            ans_list[j] = -ans_list[j]\n",
    "\n",
    "        if dart[j][2] == '*' and j == 0 :\n",
    "            ans_list[j] = ans_list[j] * 2\n",
    "        elif dart[j][2] == '*' and j > 0 :\n",
    "            ans_list[j-1] = ans_list[j-1] * 2\n",
    "            ans_list[j] = ans_list[j] * 2\n",
    "\n",
    "    answer = sum(ans_list)\n",
    "    return answer"
   ]
  }
 ],
 "metadata": {
  "kernelspec": {
   "display_name": "Python 3",
   "language": "python",
   "name": "python3"
  },
  "language_info": {
   "codemirror_mode": {
    "name": "ipython",
    "version": 3
   },
   "file_extension": ".py",
   "mimetype": "text/x-python",
   "name": "python",
   "nbconvert_exporter": "python",
   "pygments_lexer": "ipython3",
   "version": "3.7.6"
  }
 },
 "nbformat": 4,
 "nbformat_minor": 4
}
